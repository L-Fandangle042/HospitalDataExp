{
 "cells": [
  {
   "cell_type": "code",
   "execution_count": 1,
   "metadata": {},
   "outputs": [],
   "source": [
    "import pandas as pd\n",
    "import matplotlib.pyplot as plt\n",
    "import seaborn as sns\n",
    "\n",
    "pd.set_option('display.max_columns', None)"
   ]
  },
  {
   "cell_type": "markdown",
   "metadata": {},
   "source": [
    "# Stage 1/5: Upload the data\n"
   ]
  },
  {
   "cell_type": "code",
   "execution_count": 2,
   "metadata": {},
   "outputs": [],
   "source": [
    "df_general = pd.read_csv(\"general.csv\")\n",
    "df_prenatal = pd.read_csv(\"prenatal.csv\")\n",
    "df_sports = pd.read_csv(\"sports.csv\")"
   ]
  },
  {
   "cell_type": "code",
   "execution_count": 3,
   "metadata": {},
   "outputs": [
    {
     "data": {
      "text/html": [
       "<div>\n",
       "<style scoped>\n",
       "    .dataframe tbody tr th:only-of-type {\n",
       "        vertical-align: middle;\n",
       "    }\n",
       "\n",
       "    .dataframe tbody tr th {\n",
       "        vertical-align: top;\n",
       "    }\n",
       "\n",
       "    .dataframe thead th {\n",
       "        text-align: right;\n",
       "    }\n",
       "</style>\n",
       "<table border=\"1\" class=\"dataframe\">\n",
       "  <thead>\n",
       "    <tr style=\"text-align: right;\">\n",
       "      <th></th>\n",
       "      <th>Unnamed: 0</th>\n",
       "      <th>hospital</th>\n",
       "      <th>gender</th>\n",
       "      <th>age</th>\n",
       "      <th>height</th>\n",
       "      <th>weight</th>\n",
       "      <th>bmi</th>\n",
       "      <th>diagnosis</th>\n",
       "      <th>blood_test</th>\n",
       "      <th>ecg</th>\n",
       "      <th>ultrasound</th>\n",
       "      <th>mri</th>\n",
       "      <th>xray</th>\n",
       "      <th>children</th>\n",
       "      <th>months</th>\n",
       "    </tr>\n",
       "  </thead>\n",
       "  <tbody>\n",
       "    <tr>\n",
       "      <th>0</th>\n",
       "      <td>0</td>\n",
       "      <td>general</td>\n",
       "      <td>man</td>\n",
       "      <td>33</td>\n",
       "      <td>1.64</td>\n",
       "      <td>66</td>\n",
       "      <td>24.9</td>\n",
       "      <td>cold</td>\n",
       "      <td>t</td>\n",
       "      <td>NaN</td>\n",
       "      <td>NaN</td>\n",
       "      <td>NaN</td>\n",
       "      <td>NaN</td>\n",
       "      <td>NaN</td>\n",
       "      <td>NaN</td>\n",
       "    </tr>\n",
       "    <tr>\n",
       "      <th>1</th>\n",
       "      <td>1</td>\n",
       "      <td>general</td>\n",
       "      <td>man</td>\n",
       "      <td>48</td>\n",
       "      <td>1.93</td>\n",
       "      <td>106</td>\n",
       "      <td>28.4</td>\n",
       "      <td>stomach</td>\n",
       "      <td>t</td>\n",
       "      <td>NaN</td>\n",
       "      <td>t</td>\n",
       "      <td>NaN</td>\n",
       "      <td>NaN</td>\n",
       "      <td>NaN</td>\n",
       "      <td>NaN</td>\n",
       "    </tr>\n",
       "    <tr>\n",
       "      <th>2</th>\n",
       "      <td>2</td>\n",
       "      <td>general</td>\n",
       "      <td>woman</td>\n",
       "      <td>23</td>\n",
       "      <td>1.54</td>\n",
       "      <td>63</td>\n",
       "      <td>26.8</td>\n",
       "      <td>cold</td>\n",
       "      <td>t</td>\n",
       "      <td>NaN</td>\n",
       "      <td>NaN</td>\n",
       "      <td>NaN</td>\n",
       "      <td>NaN</td>\n",
       "      <td>NaN</td>\n",
       "      <td>NaN</td>\n",
       "    </tr>\n",
       "    <tr>\n",
       "      <th>3</th>\n",
       "      <td>3</td>\n",
       "      <td>general</td>\n",
       "      <td>man</td>\n",
       "      <td>27</td>\n",
       "      <td>1.94</td>\n",
       "      <td>103</td>\n",
       "      <td>27.5</td>\n",
       "      <td>stomach</td>\n",
       "      <td>t</td>\n",
       "      <td>NaN</td>\n",
       "      <td>t</td>\n",
       "      <td>NaN</td>\n",
       "      <td>NaN</td>\n",
       "      <td>NaN</td>\n",
       "      <td>NaN</td>\n",
       "    </tr>\n",
       "    <tr>\n",
       "      <th>4</th>\n",
       "      <td>4</td>\n",
       "      <td>general</td>\n",
       "      <td>woman</td>\n",
       "      <td>22</td>\n",
       "      <td>1.76</td>\n",
       "      <td>74</td>\n",
       "      <td>24.0</td>\n",
       "      <td>dislocation</td>\n",
       "      <td>NaN</td>\n",
       "      <td>NaN</td>\n",
       "      <td>NaN</td>\n",
       "      <td>NaN</td>\n",
       "      <td>f</td>\n",
       "      <td>NaN</td>\n",
       "      <td>NaN</td>\n",
       "    </tr>\n",
       "  </tbody>\n",
       "</table>\n",
       "</div>"
      ],
      "text/plain": [
       "   Unnamed: 0 hospital gender  age  height  weight   bmi    diagnosis  \\\n",
       "0           0  general    man   33    1.64      66  24.9         cold   \n",
       "1           1  general    man   48    1.93     106  28.4      stomach   \n",
       "2           2  general  woman   23    1.54      63  26.8         cold   \n",
       "3           3  general    man   27    1.94     103  27.5      stomach   \n",
       "4           4  general  woman   22    1.76      74  24.0  dislocation   \n",
       "\n",
       "  blood_test  ecg ultrasound  mri xray  children  months  \n",
       "0          t  NaN        NaN  NaN  NaN       NaN     NaN  \n",
       "1          t  NaN          t  NaN  NaN       NaN     NaN  \n",
       "2          t  NaN        NaN  NaN  NaN       NaN     NaN  \n",
       "3          t  NaN          t  NaN  NaN       NaN     NaN  \n",
       "4        NaN  NaN        NaN  NaN    f       NaN     NaN  "
      ]
     },
     "execution_count": 3,
     "metadata": {},
     "output_type": "execute_result"
    }
   ],
   "source": [
    "df_general.head()"
   ]
  },
  {
   "cell_type": "code",
   "execution_count": 4,
   "metadata": {},
   "outputs": [
    {
     "data": {
      "text/html": [
       "<div>\n",
       "<style scoped>\n",
       "    .dataframe tbody tr th:only-of-type {\n",
       "        vertical-align: middle;\n",
       "    }\n",
       "\n",
       "    .dataframe tbody tr th {\n",
       "        vertical-align: top;\n",
       "    }\n",
       "\n",
       "    .dataframe thead th {\n",
       "        text-align: right;\n",
       "    }\n",
       "</style>\n",
       "<table border=\"1\" class=\"dataframe\">\n",
       "  <thead>\n",
       "    <tr style=\"text-align: right;\">\n",
       "      <th></th>\n",
       "      <th>Unnamed: 0</th>\n",
       "      <th>HOSPITAL</th>\n",
       "      <th>Sex</th>\n",
       "      <th>age</th>\n",
       "      <th>height</th>\n",
       "      <th>weight</th>\n",
       "      <th>bmi</th>\n",
       "      <th>diagnosis</th>\n",
       "      <th>blood_test</th>\n",
       "      <th>ecg</th>\n",
       "      <th>ultrasound</th>\n",
       "      <th>mri</th>\n",
       "      <th>xray</th>\n",
       "      <th>children</th>\n",
       "      <th>months</th>\n",
       "    </tr>\n",
       "  </thead>\n",
       "  <tbody>\n",
       "    <tr>\n",
       "      <th>0</th>\n",
       "      <td>0</td>\n",
       "      <td>prenatal</td>\n",
       "      <td>NaN</td>\n",
       "      <td>27.0</td>\n",
       "      <td>1.63</td>\n",
       "      <td>74.0</td>\n",
       "      <td>28.0</td>\n",
       "      <td>pregnancy</td>\n",
       "      <td>t</td>\n",
       "      <td>t</td>\n",
       "      <td>t</td>\n",
       "      <td>NaN</td>\n",
       "      <td>f</td>\n",
       "      <td>0.0</td>\n",
       "      <td>3.0</td>\n",
       "    </tr>\n",
       "    <tr>\n",
       "      <th>1</th>\n",
       "      <td>1</td>\n",
       "      <td>prenatal</td>\n",
       "      <td>NaN</td>\n",
       "      <td>18.0</td>\n",
       "      <td>1.70</td>\n",
       "      <td>89.0</td>\n",
       "      <td>31.3</td>\n",
       "      <td>pregnancy</td>\n",
       "      <td>t</td>\n",
       "      <td>t</td>\n",
       "      <td>t</td>\n",
       "      <td>NaN</td>\n",
       "      <td>f</td>\n",
       "      <td>1.0</td>\n",
       "      <td>5.0</td>\n",
       "    </tr>\n",
       "    <tr>\n",
       "      <th>2</th>\n",
       "      <td>2</td>\n",
       "      <td>prenatal</td>\n",
       "      <td>NaN</td>\n",
       "      <td>34.0</td>\n",
       "      <td>1.65</td>\n",
       "      <td>67.0</td>\n",
       "      <td>24.9</td>\n",
       "      <td>pregnancy</td>\n",
       "      <td>t</td>\n",
       "      <td>t</td>\n",
       "      <td>t</td>\n",
       "      <td>NaN</td>\n",
       "      <td>f</td>\n",
       "      <td>1.0</td>\n",
       "      <td>5.0</td>\n",
       "    </tr>\n",
       "    <tr>\n",
       "      <th>3</th>\n",
       "      <td>3</td>\n",
       "      <td>prenatal</td>\n",
       "      <td>NaN</td>\n",
       "      <td>29.0</td>\n",
       "      <td>1.58</td>\n",
       "      <td>71.0</td>\n",
       "      <td>28.7</td>\n",
       "      <td>pregnancy</td>\n",
       "      <td>t</td>\n",
       "      <td>t</td>\n",
       "      <td>t</td>\n",
       "      <td>NaN</td>\n",
       "      <td>f</td>\n",
       "      <td>2.0</td>\n",
       "      <td>3.0</td>\n",
       "    </tr>\n",
       "    <tr>\n",
       "      <th>4</th>\n",
       "      <td>4</td>\n",
       "      <td>prenatal</td>\n",
       "      <td>NaN</td>\n",
       "      <td>33.0</td>\n",
       "      <td>1.51</td>\n",
       "      <td>57.0</td>\n",
       "      <td>25.3</td>\n",
       "      <td>pregnancy</td>\n",
       "      <td>t</td>\n",
       "      <td>t</td>\n",
       "      <td>t</td>\n",
       "      <td>NaN</td>\n",
       "      <td>f</td>\n",
       "      <td>1.0</td>\n",
       "      <td>7.0</td>\n",
       "    </tr>\n",
       "  </tbody>\n",
       "</table>\n",
       "</div>"
      ],
      "text/plain": [
       "   Unnamed: 0  HOSPITAL  Sex   age  height  weight   bmi  diagnosis  \\\n",
       "0           0  prenatal  NaN  27.0    1.63    74.0  28.0  pregnancy   \n",
       "1           1  prenatal  NaN  18.0    1.70    89.0  31.3  pregnancy   \n",
       "2           2  prenatal  NaN  34.0    1.65    67.0  24.9  pregnancy   \n",
       "3           3  prenatal  NaN  29.0    1.58    71.0  28.7  pregnancy   \n",
       "4           4  prenatal  NaN  33.0    1.51    57.0  25.3  pregnancy   \n",
       "\n",
       "  blood_test ecg ultrasound  mri xray  children  months  \n",
       "0          t   t          t  NaN    f       0.0     3.0  \n",
       "1          t   t          t  NaN    f       1.0     5.0  \n",
       "2          t   t          t  NaN    f       1.0     5.0  \n",
       "3          t   t          t  NaN    f       2.0     3.0  \n",
       "4          t   t          t  NaN    f       1.0     7.0  "
      ]
     },
     "execution_count": 4,
     "metadata": {},
     "output_type": "execute_result"
    }
   ],
   "source": [
    "df_prenatal.head()"
   ]
  },
  {
   "cell_type": "code",
   "execution_count": 5,
   "metadata": {},
   "outputs": [
    {
     "data": {
      "text/html": [
       "<div>\n",
       "<style scoped>\n",
       "    .dataframe tbody tr th:only-of-type {\n",
       "        vertical-align: middle;\n",
       "    }\n",
       "\n",
       "    .dataframe tbody tr th {\n",
       "        vertical-align: top;\n",
       "    }\n",
       "\n",
       "    .dataframe thead th {\n",
       "        text-align: right;\n",
       "    }\n",
       "</style>\n",
       "<table border=\"1\" class=\"dataframe\">\n",
       "  <thead>\n",
       "    <tr style=\"text-align: right;\">\n",
       "      <th></th>\n",
       "      <th>Unnamed: 0</th>\n",
       "      <th>Hospital</th>\n",
       "      <th>Male/female</th>\n",
       "      <th>age</th>\n",
       "      <th>height</th>\n",
       "      <th>weight</th>\n",
       "      <th>bmi</th>\n",
       "      <th>diagnosis</th>\n",
       "      <th>blood_test</th>\n",
       "      <th>ecg</th>\n",
       "      <th>ultrasound</th>\n",
       "      <th>mri</th>\n",
       "      <th>xray</th>\n",
       "      <th>children</th>\n",
       "      <th>months</th>\n",
       "    </tr>\n",
       "  </thead>\n",
       "  <tbody>\n",
       "    <tr>\n",
       "      <th>0</th>\n",
       "      <td>0</td>\n",
       "      <td>sports</td>\n",
       "      <td>female</td>\n",
       "      <td>20.0</td>\n",
       "      <td>5.871</td>\n",
       "      <td>150.0</td>\n",
       "      <td>21.3</td>\n",
       "      <td>sprain</td>\n",
       "      <td>NaN</td>\n",
       "      <td>f</td>\n",
       "      <td>NaN</td>\n",
       "      <td>t</td>\n",
       "      <td>f</td>\n",
       "      <td>NaN</td>\n",
       "      <td>NaN</td>\n",
       "    </tr>\n",
       "    <tr>\n",
       "      <th>1</th>\n",
       "      <td>1</td>\n",
       "      <td>sports</td>\n",
       "      <td>female</td>\n",
       "      <td>20.0</td>\n",
       "      <td>6.665</td>\n",
       "      <td>248.0</td>\n",
       "      <td>27.3</td>\n",
       "      <td>dislocation</td>\n",
       "      <td>NaN</td>\n",
       "      <td>f</td>\n",
       "      <td>NaN</td>\n",
       "      <td>f</td>\n",
       "      <td>t</td>\n",
       "      <td>NaN</td>\n",
       "      <td>NaN</td>\n",
       "    </tr>\n",
       "    <tr>\n",
       "      <th>2</th>\n",
       "      <td>2</td>\n",
       "      <td>sports</td>\n",
       "      <td>male</td>\n",
       "      <td>16.0</td>\n",
       "      <td>6.960</td>\n",
       "      <td>273.0</td>\n",
       "      <td>27.6</td>\n",
       "      <td>dislocation</td>\n",
       "      <td>NaN</td>\n",
       "      <td>f</td>\n",
       "      <td>NaN</td>\n",
       "      <td>f</td>\n",
       "      <td>t</td>\n",
       "      <td>NaN</td>\n",
       "      <td>NaN</td>\n",
       "    </tr>\n",
       "    <tr>\n",
       "      <th>3</th>\n",
       "      <td>3</td>\n",
       "      <td>sports</td>\n",
       "      <td>male</td>\n",
       "      <td>17.0</td>\n",
       "      <td>7.128</td>\n",
       "      <td>269.0</td>\n",
       "      <td>25.9</td>\n",
       "      <td>sprain</td>\n",
       "      <td>NaN</td>\n",
       "      <td>f</td>\n",
       "      <td>NaN</td>\n",
       "      <td>t</td>\n",
       "      <td>f</td>\n",
       "      <td>NaN</td>\n",
       "      <td>NaN</td>\n",
       "    </tr>\n",
       "    <tr>\n",
       "      <th>4</th>\n",
       "      <td>4</td>\n",
       "      <td>sports</td>\n",
       "      <td>male</td>\n",
       "      <td>19.0</td>\n",
       "      <td>5.993</td>\n",
       "      <td>209.0</td>\n",
       "      <td>28.4</td>\n",
       "      <td>dislocation</td>\n",
       "      <td>NaN</td>\n",
       "      <td>f</td>\n",
       "      <td>NaN</td>\n",
       "      <td>f</td>\n",
       "      <td>t</td>\n",
       "      <td>NaN</td>\n",
       "      <td>NaN</td>\n",
       "    </tr>\n",
       "  </tbody>\n",
       "</table>\n",
       "</div>"
      ],
      "text/plain": [
       "   Unnamed: 0 Hospital Male/female   age  height  weight   bmi    diagnosis  \\\n",
       "0           0   sports      female  20.0   5.871   150.0  21.3       sprain   \n",
       "1           1   sports      female  20.0   6.665   248.0  27.3  dislocation   \n",
       "2           2   sports        male  16.0   6.960   273.0  27.6  dislocation   \n",
       "3           3   sports        male  17.0   7.128   269.0  25.9       sprain   \n",
       "4           4   sports        male  19.0   5.993   209.0  28.4  dislocation   \n",
       "\n",
       "   blood_test ecg  ultrasound mri xray  children  months  \n",
       "0         NaN   f         NaN   t    f       NaN     NaN  \n",
       "1         NaN   f         NaN   f    t       NaN     NaN  \n",
       "2         NaN   f         NaN   f    t       NaN     NaN  \n",
       "3         NaN   f         NaN   t    f       NaN     NaN  \n",
       "4         NaN   f         NaN   f    t       NaN     NaN  "
      ]
     },
     "execution_count": 5,
     "metadata": {},
     "output_type": "execute_result"
    }
   ],
   "source": [
    "df_sports.head()"
   ]
  },
  {
   "cell_type": "markdown",
   "metadata": {},
   "source": [
    "# Stage 2/5: Merge them\n"
   ]
  },
  {
   "cell_type": "markdown",
   "metadata": {},
   "source": [
    "2.1 Rename columns from all dataframes the same as the columns `general` dataframe.\n"
   ]
  },
  {
   "cell_type": "code",
   "execution_count": 6,
   "metadata": {},
   "outputs": [
    {
     "data": {
      "text/plain": [
       "Index(['Unnamed: 0', 'hospital', 'gender', 'age', 'height', 'weight', 'bmi',\n",
       "       'diagnosis', 'blood_test', 'ecg', 'ultrasound', 'mri', 'xray',\n",
       "       'children', 'months'],\n",
       "      dtype='object')"
      ]
     },
     "execution_count": 6,
     "metadata": {},
     "output_type": "execute_result"
    }
   ],
   "source": [
    "columns = df_general.columns\n",
    "columns"
   ]
  },
  {
   "cell_type": "code",
   "execution_count": 7,
   "metadata": {},
   "outputs": [
    {
     "data": {
      "text/html": [
       "<div>\n",
       "<style scoped>\n",
       "    .dataframe tbody tr th:only-of-type {\n",
       "        vertical-align: middle;\n",
       "    }\n",
       "\n",
       "    .dataframe tbody tr th {\n",
       "        vertical-align: top;\n",
       "    }\n",
       "\n",
       "    .dataframe thead th {\n",
       "        text-align: right;\n",
       "    }\n",
       "</style>\n",
       "<table border=\"1\" class=\"dataframe\">\n",
       "  <thead>\n",
       "    <tr style=\"text-align: right;\">\n",
       "      <th></th>\n",
       "      <th>Unnamed: 0</th>\n",
       "      <th>hospital</th>\n",
       "      <th>gender</th>\n",
       "      <th>age</th>\n",
       "      <th>height</th>\n",
       "      <th>weight</th>\n",
       "      <th>bmi</th>\n",
       "      <th>diagnosis</th>\n",
       "      <th>blood_test</th>\n",
       "      <th>ecg</th>\n",
       "      <th>ultrasound</th>\n",
       "      <th>mri</th>\n",
       "      <th>xray</th>\n",
       "      <th>children</th>\n",
       "      <th>months</th>\n",
       "    </tr>\n",
       "  </thead>\n",
       "  <tbody>\n",
       "    <tr>\n",
       "      <th>0</th>\n",
       "      <td>0</td>\n",
       "      <td>prenatal</td>\n",
       "      <td>NaN</td>\n",
       "      <td>27.0</td>\n",
       "      <td>1.63</td>\n",
       "      <td>74.0</td>\n",
       "      <td>28.0</td>\n",
       "      <td>pregnancy</td>\n",
       "      <td>t</td>\n",
       "      <td>t</td>\n",
       "      <td>t</td>\n",
       "      <td>NaN</td>\n",
       "      <td>f</td>\n",
       "      <td>0.0</td>\n",
       "      <td>3.0</td>\n",
       "    </tr>\n",
       "    <tr>\n",
       "      <th>1</th>\n",
       "      <td>1</td>\n",
       "      <td>prenatal</td>\n",
       "      <td>NaN</td>\n",
       "      <td>18.0</td>\n",
       "      <td>1.70</td>\n",
       "      <td>89.0</td>\n",
       "      <td>31.3</td>\n",
       "      <td>pregnancy</td>\n",
       "      <td>t</td>\n",
       "      <td>t</td>\n",
       "      <td>t</td>\n",
       "      <td>NaN</td>\n",
       "      <td>f</td>\n",
       "      <td>1.0</td>\n",
       "      <td>5.0</td>\n",
       "    </tr>\n",
       "    <tr>\n",
       "      <th>2</th>\n",
       "      <td>2</td>\n",
       "      <td>prenatal</td>\n",
       "      <td>NaN</td>\n",
       "      <td>34.0</td>\n",
       "      <td>1.65</td>\n",
       "      <td>67.0</td>\n",
       "      <td>24.9</td>\n",
       "      <td>pregnancy</td>\n",
       "      <td>t</td>\n",
       "      <td>t</td>\n",
       "      <td>t</td>\n",
       "      <td>NaN</td>\n",
       "      <td>f</td>\n",
       "      <td>1.0</td>\n",
       "      <td>5.0</td>\n",
       "    </tr>\n",
       "    <tr>\n",
       "      <th>3</th>\n",
       "      <td>3</td>\n",
       "      <td>prenatal</td>\n",
       "      <td>NaN</td>\n",
       "      <td>29.0</td>\n",
       "      <td>1.58</td>\n",
       "      <td>71.0</td>\n",
       "      <td>28.7</td>\n",
       "      <td>pregnancy</td>\n",
       "      <td>t</td>\n",
       "      <td>t</td>\n",
       "      <td>t</td>\n",
       "      <td>NaN</td>\n",
       "      <td>f</td>\n",
       "      <td>2.0</td>\n",
       "      <td>3.0</td>\n",
       "    </tr>\n",
       "    <tr>\n",
       "      <th>4</th>\n",
       "      <td>4</td>\n",
       "      <td>prenatal</td>\n",
       "      <td>NaN</td>\n",
       "      <td>33.0</td>\n",
       "      <td>1.51</td>\n",
       "      <td>57.0</td>\n",
       "      <td>25.3</td>\n",
       "      <td>pregnancy</td>\n",
       "      <td>t</td>\n",
       "      <td>t</td>\n",
       "      <td>t</td>\n",
       "      <td>NaN</td>\n",
       "      <td>f</td>\n",
       "      <td>1.0</td>\n",
       "      <td>7.0</td>\n",
       "    </tr>\n",
       "  </tbody>\n",
       "</table>\n",
       "</div>"
      ],
      "text/plain": [
       "   Unnamed: 0  hospital  gender   age  height  weight   bmi  diagnosis  \\\n",
       "0           0  prenatal     NaN  27.0    1.63    74.0  28.0  pregnancy   \n",
       "1           1  prenatal     NaN  18.0    1.70    89.0  31.3  pregnancy   \n",
       "2           2  prenatal     NaN  34.0    1.65    67.0  24.9  pregnancy   \n",
       "3           3  prenatal     NaN  29.0    1.58    71.0  28.7  pregnancy   \n",
       "4           4  prenatal     NaN  33.0    1.51    57.0  25.3  pregnancy   \n",
       "\n",
       "  blood_test ecg ultrasound  mri xray  children  months  \n",
       "0          t   t          t  NaN    f       0.0     3.0  \n",
       "1          t   t          t  NaN    f       1.0     5.0  \n",
       "2          t   t          t  NaN    f       1.0     5.0  \n",
       "3          t   t          t  NaN    f       2.0     3.0  \n",
       "4          t   t          t  NaN    f       1.0     7.0  "
      ]
     },
     "execution_count": 7,
     "metadata": {},
     "output_type": "execute_result"
    }
   ],
   "source": [
    "df_prenatal.columns = columns\n",
    "\n",
    "df_prenatal.head()"
   ]
  },
  {
   "cell_type": "code",
   "execution_count": 8,
   "metadata": {},
   "outputs": [
    {
     "data": {
      "text/html": [
       "<div>\n",
       "<style scoped>\n",
       "    .dataframe tbody tr th:only-of-type {\n",
       "        vertical-align: middle;\n",
       "    }\n",
       "\n",
       "    .dataframe tbody tr th {\n",
       "        vertical-align: top;\n",
       "    }\n",
       "\n",
       "    .dataframe thead th {\n",
       "        text-align: right;\n",
       "    }\n",
       "</style>\n",
       "<table border=\"1\" class=\"dataframe\">\n",
       "  <thead>\n",
       "    <tr style=\"text-align: right;\">\n",
       "      <th></th>\n",
       "      <th>Unnamed: 0</th>\n",
       "      <th>hospital</th>\n",
       "      <th>gender</th>\n",
       "      <th>age</th>\n",
       "      <th>height</th>\n",
       "      <th>weight</th>\n",
       "      <th>bmi</th>\n",
       "      <th>diagnosis</th>\n",
       "      <th>blood_test</th>\n",
       "      <th>ecg</th>\n",
       "      <th>ultrasound</th>\n",
       "      <th>mri</th>\n",
       "      <th>xray</th>\n",
       "      <th>children</th>\n",
       "      <th>months</th>\n",
       "    </tr>\n",
       "  </thead>\n",
       "  <tbody>\n",
       "    <tr>\n",
       "      <th>0</th>\n",
       "      <td>0</td>\n",
       "      <td>sports</td>\n",
       "      <td>female</td>\n",
       "      <td>20.0</td>\n",
       "      <td>5.871</td>\n",
       "      <td>150.0</td>\n",
       "      <td>21.3</td>\n",
       "      <td>sprain</td>\n",
       "      <td>NaN</td>\n",
       "      <td>f</td>\n",
       "      <td>NaN</td>\n",
       "      <td>t</td>\n",
       "      <td>f</td>\n",
       "      <td>NaN</td>\n",
       "      <td>NaN</td>\n",
       "    </tr>\n",
       "    <tr>\n",
       "      <th>1</th>\n",
       "      <td>1</td>\n",
       "      <td>sports</td>\n",
       "      <td>female</td>\n",
       "      <td>20.0</td>\n",
       "      <td>6.665</td>\n",
       "      <td>248.0</td>\n",
       "      <td>27.3</td>\n",
       "      <td>dislocation</td>\n",
       "      <td>NaN</td>\n",
       "      <td>f</td>\n",
       "      <td>NaN</td>\n",
       "      <td>f</td>\n",
       "      <td>t</td>\n",
       "      <td>NaN</td>\n",
       "      <td>NaN</td>\n",
       "    </tr>\n",
       "    <tr>\n",
       "      <th>2</th>\n",
       "      <td>2</td>\n",
       "      <td>sports</td>\n",
       "      <td>male</td>\n",
       "      <td>16.0</td>\n",
       "      <td>6.960</td>\n",
       "      <td>273.0</td>\n",
       "      <td>27.6</td>\n",
       "      <td>dislocation</td>\n",
       "      <td>NaN</td>\n",
       "      <td>f</td>\n",
       "      <td>NaN</td>\n",
       "      <td>f</td>\n",
       "      <td>t</td>\n",
       "      <td>NaN</td>\n",
       "      <td>NaN</td>\n",
       "    </tr>\n",
       "    <tr>\n",
       "      <th>3</th>\n",
       "      <td>3</td>\n",
       "      <td>sports</td>\n",
       "      <td>male</td>\n",
       "      <td>17.0</td>\n",
       "      <td>7.128</td>\n",
       "      <td>269.0</td>\n",
       "      <td>25.9</td>\n",
       "      <td>sprain</td>\n",
       "      <td>NaN</td>\n",
       "      <td>f</td>\n",
       "      <td>NaN</td>\n",
       "      <td>t</td>\n",
       "      <td>f</td>\n",
       "      <td>NaN</td>\n",
       "      <td>NaN</td>\n",
       "    </tr>\n",
       "    <tr>\n",
       "      <th>4</th>\n",
       "      <td>4</td>\n",
       "      <td>sports</td>\n",
       "      <td>male</td>\n",
       "      <td>19.0</td>\n",
       "      <td>5.993</td>\n",
       "      <td>209.0</td>\n",
       "      <td>28.4</td>\n",
       "      <td>dislocation</td>\n",
       "      <td>NaN</td>\n",
       "      <td>f</td>\n",
       "      <td>NaN</td>\n",
       "      <td>f</td>\n",
       "      <td>t</td>\n",
       "      <td>NaN</td>\n",
       "      <td>NaN</td>\n",
       "    </tr>\n",
       "  </tbody>\n",
       "</table>\n",
       "</div>"
      ],
      "text/plain": [
       "   Unnamed: 0 hospital  gender   age  height  weight   bmi    diagnosis  \\\n",
       "0           0   sports  female  20.0   5.871   150.0  21.3       sprain   \n",
       "1           1   sports  female  20.0   6.665   248.0  27.3  dislocation   \n",
       "2           2   sports    male  16.0   6.960   273.0  27.6  dislocation   \n",
       "3           3   sports    male  17.0   7.128   269.0  25.9       sprain   \n",
       "4           4   sports    male  19.0   5.993   209.0  28.4  dislocation   \n",
       "\n",
       "   blood_test ecg  ultrasound mri xray  children  months  \n",
       "0         NaN   f         NaN   t    f       NaN     NaN  \n",
       "1         NaN   f         NaN   f    t       NaN     NaN  \n",
       "2         NaN   f         NaN   f    t       NaN     NaN  \n",
       "3         NaN   f         NaN   t    f       NaN     NaN  \n",
       "4         NaN   f         NaN   f    t       NaN     NaN  "
      ]
     },
     "execution_count": 8,
     "metadata": {},
     "output_type": "execute_result"
    }
   ],
   "source": [
    "df_sports.columns = columns\n",
    "\n",
    "df_sports.head()"
   ]
  },
  {
   "cell_type": "markdown",
   "metadata": {},
   "source": [
    "2.2. Merge the three dataframes in one\n"
   ]
  },
  {
   "cell_type": "code",
   "execution_count": 9,
   "metadata": {},
   "outputs": [
    {
     "data": {
      "text/html": [
       "<div>\n",
       "<style scoped>\n",
       "    .dataframe tbody tr th:only-of-type {\n",
       "        vertical-align: middle;\n",
       "    }\n",
       "\n",
       "    .dataframe tbody tr th {\n",
       "        vertical-align: top;\n",
       "    }\n",
       "\n",
       "    .dataframe thead th {\n",
       "        text-align: right;\n",
       "    }\n",
       "</style>\n",
       "<table border=\"1\" class=\"dataframe\">\n",
       "  <thead>\n",
       "    <tr style=\"text-align: right;\">\n",
       "      <th></th>\n",
       "      <th>Unnamed: 0</th>\n",
       "      <th>hospital</th>\n",
       "      <th>gender</th>\n",
       "      <th>age</th>\n",
       "      <th>height</th>\n",
       "      <th>weight</th>\n",
       "      <th>bmi</th>\n",
       "      <th>diagnosis</th>\n",
       "      <th>blood_test</th>\n",
       "      <th>ecg</th>\n",
       "      <th>ultrasound</th>\n",
       "      <th>mri</th>\n",
       "      <th>xray</th>\n",
       "      <th>children</th>\n",
       "      <th>months</th>\n",
       "    </tr>\n",
       "  </thead>\n",
       "  <tbody>\n",
       "    <tr>\n",
       "      <th>0</th>\n",
       "      <td>0</td>\n",
       "      <td>general</td>\n",
       "      <td>man</td>\n",
       "      <td>33.0</td>\n",
       "      <td>1.64</td>\n",
       "      <td>66.0</td>\n",
       "      <td>24.9</td>\n",
       "      <td>cold</td>\n",
       "      <td>t</td>\n",
       "      <td>NaN</td>\n",
       "      <td>NaN</td>\n",
       "      <td>NaN</td>\n",
       "      <td>NaN</td>\n",
       "      <td>NaN</td>\n",
       "      <td>NaN</td>\n",
       "    </tr>\n",
       "    <tr>\n",
       "      <th>1</th>\n",
       "      <td>1</td>\n",
       "      <td>general</td>\n",
       "      <td>man</td>\n",
       "      <td>48.0</td>\n",
       "      <td>1.93</td>\n",
       "      <td>106.0</td>\n",
       "      <td>28.4</td>\n",
       "      <td>stomach</td>\n",
       "      <td>t</td>\n",
       "      <td>NaN</td>\n",
       "      <td>t</td>\n",
       "      <td>NaN</td>\n",
       "      <td>NaN</td>\n",
       "      <td>NaN</td>\n",
       "      <td>NaN</td>\n",
       "    </tr>\n",
       "    <tr>\n",
       "      <th>2</th>\n",
       "      <td>2</td>\n",
       "      <td>general</td>\n",
       "      <td>woman</td>\n",
       "      <td>23.0</td>\n",
       "      <td>1.54</td>\n",
       "      <td>63.0</td>\n",
       "      <td>26.8</td>\n",
       "      <td>cold</td>\n",
       "      <td>t</td>\n",
       "      <td>NaN</td>\n",
       "      <td>NaN</td>\n",
       "      <td>NaN</td>\n",
       "      <td>NaN</td>\n",
       "      <td>NaN</td>\n",
       "      <td>NaN</td>\n",
       "    </tr>\n",
       "    <tr>\n",
       "      <th>3</th>\n",
       "      <td>3</td>\n",
       "      <td>general</td>\n",
       "      <td>man</td>\n",
       "      <td>27.0</td>\n",
       "      <td>1.94</td>\n",
       "      <td>103.0</td>\n",
       "      <td>27.5</td>\n",
       "      <td>stomach</td>\n",
       "      <td>t</td>\n",
       "      <td>NaN</td>\n",
       "      <td>t</td>\n",
       "      <td>NaN</td>\n",
       "      <td>NaN</td>\n",
       "      <td>NaN</td>\n",
       "      <td>NaN</td>\n",
       "    </tr>\n",
       "    <tr>\n",
       "      <th>4</th>\n",
       "      <td>4</td>\n",
       "      <td>general</td>\n",
       "      <td>woman</td>\n",
       "      <td>22.0</td>\n",
       "      <td>1.76</td>\n",
       "      <td>74.0</td>\n",
       "      <td>24.0</td>\n",
       "      <td>dislocation</td>\n",
       "      <td>NaN</td>\n",
       "      <td>NaN</td>\n",
       "      <td>NaN</td>\n",
       "      <td>NaN</td>\n",
       "      <td>f</td>\n",
       "      <td>NaN</td>\n",
       "      <td>NaN</td>\n",
       "    </tr>\n",
       "  </tbody>\n",
       "</table>\n",
       "</div>"
      ],
      "text/plain": [
       "   Unnamed: 0 hospital gender   age  height  weight   bmi    diagnosis  \\\n",
       "0           0  general    man  33.0    1.64    66.0  24.9         cold   \n",
       "1           1  general    man  48.0    1.93   106.0  28.4      stomach   \n",
       "2           2  general  woman  23.0    1.54    63.0  26.8         cold   \n",
       "3           3  general    man  27.0    1.94   103.0  27.5      stomach   \n",
       "4           4  general  woman  22.0    1.76    74.0  24.0  dislocation   \n",
       "\n",
       "  blood_test  ecg ultrasound  mri xray  children  months  \n",
       "0          t  NaN        NaN  NaN  NaN       NaN     NaN  \n",
       "1          t  NaN          t  NaN  NaN       NaN     NaN  \n",
       "2          t  NaN        NaN  NaN  NaN       NaN     NaN  \n",
       "3          t  NaN          t  NaN  NaN       NaN     NaN  \n",
       "4        NaN  NaN        NaN  NaN    f       NaN     NaN  "
      ]
     },
     "execution_count": 9,
     "metadata": {},
     "output_type": "execute_result"
    }
   ],
   "source": [
    "df = pd.concat([df_general, df_prenatal, df_sports], join = \"outer\")\n",
    "\n",
    "df.head()"
   ]
  },
  {
   "cell_type": "code",
   "execution_count": 10,
   "metadata": {},
   "outputs": [
    {
     "data": {
      "text/html": [
       "<div>\n",
       "<style scoped>\n",
       "    .dataframe tbody tr th:only-of-type {\n",
       "        vertical-align: middle;\n",
       "    }\n",
       "\n",
       "    .dataframe tbody tr th {\n",
       "        vertical-align: top;\n",
       "    }\n",
       "\n",
       "    .dataframe thead th {\n",
       "        text-align: right;\n",
       "    }\n",
       "</style>\n",
       "<table border=\"1\" class=\"dataframe\">\n",
       "  <thead>\n",
       "    <tr style=\"text-align: right;\">\n",
       "      <th></th>\n",
       "      <th>hospital</th>\n",
       "      <th>gender</th>\n",
       "      <th>age</th>\n",
       "      <th>height</th>\n",
       "      <th>weight</th>\n",
       "      <th>bmi</th>\n",
       "      <th>diagnosis</th>\n",
       "      <th>blood_test</th>\n",
       "      <th>ecg</th>\n",
       "      <th>ultrasound</th>\n",
       "      <th>mri</th>\n",
       "      <th>xray</th>\n",
       "      <th>children</th>\n",
       "      <th>months</th>\n",
       "    </tr>\n",
       "  </thead>\n",
       "  <tbody>\n",
       "    <tr>\n",
       "      <th>0</th>\n",
       "      <td>general</td>\n",
       "      <td>man</td>\n",
       "      <td>33.0</td>\n",
       "      <td>1.64</td>\n",
       "      <td>66.0</td>\n",
       "      <td>24.9</td>\n",
       "      <td>cold</td>\n",
       "      <td>t</td>\n",
       "      <td>NaN</td>\n",
       "      <td>NaN</td>\n",
       "      <td>NaN</td>\n",
       "      <td>NaN</td>\n",
       "      <td>NaN</td>\n",
       "      <td>NaN</td>\n",
       "    </tr>\n",
       "    <tr>\n",
       "      <th>1</th>\n",
       "      <td>general</td>\n",
       "      <td>man</td>\n",
       "      <td>48.0</td>\n",
       "      <td>1.93</td>\n",
       "      <td>106.0</td>\n",
       "      <td>28.4</td>\n",
       "      <td>stomach</td>\n",
       "      <td>t</td>\n",
       "      <td>NaN</td>\n",
       "      <td>t</td>\n",
       "      <td>NaN</td>\n",
       "      <td>NaN</td>\n",
       "      <td>NaN</td>\n",
       "      <td>NaN</td>\n",
       "    </tr>\n",
       "    <tr>\n",
       "      <th>2</th>\n",
       "      <td>general</td>\n",
       "      <td>woman</td>\n",
       "      <td>23.0</td>\n",
       "      <td>1.54</td>\n",
       "      <td>63.0</td>\n",
       "      <td>26.8</td>\n",
       "      <td>cold</td>\n",
       "      <td>t</td>\n",
       "      <td>NaN</td>\n",
       "      <td>NaN</td>\n",
       "      <td>NaN</td>\n",
       "      <td>NaN</td>\n",
       "      <td>NaN</td>\n",
       "      <td>NaN</td>\n",
       "    </tr>\n",
       "    <tr>\n",
       "      <th>3</th>\n",
       "      <td>general</td>\n",
       "      <td>man</td>\n",
       "      <td>27.0</td>\n",
       "      <td>1.94</td>\n",
       "      <td>103.0</td>\n",
       "      <td>27.5</td>\n",
       "      <td>stomach</td>\n",
       "      <td>t</td>\n",
       "      <td>NaN</td>\n",
       "      <td>t</td>\n",
       "      <td>NaN</td>\n",
       "      <td>NaN</td>\n",
       "      <td>NaN</td>\n",
       "      <td>NaN</td>\n",
       "    </tr>\n",
       "    <tr>\n",
       "      <th>4</th>\n",
       "      <td>general</td>\n",
       "      <td>woman</td>\n",
       "      <td>22.0</td>\n",
       "      <td>1.76</td>\n",
       "      <td>74.0</td>\n",
       "      <td>24.0</td>\n",
       "      <td>dislocation</td>\n",
       "      <td>NaN</td>\n",
       "      <td>NaN</td>\n",
       "      <td>NaN</td>\n",
       "      <td>NaN</td>\n",
       "      <td>f</td>\n",
       "      <td>NaN</td>\n",
       "      <td>NaN</td>\n",
       "    </tr>\n",
       "  </tbody>\n",
       "</table>\n",
       "</div>"
      ],
      "text/plain": [
       "  hospital gender   age  height  weight   bmi    diagnosis blood_test  ecg  \\\n",
       "0  general    man  33.0    1.64    66.0  24.9         cold          t  NaN   \n",
       "1  general    man  48.0    1.93   106.0  28.4      stomach          t  NaN   \n",
       "2  general  woman  23.0    1.54    63.0  26.8         cold          t  NaN   \n",
       "3  general    man  27.0    1.94   103.0  27.5      stomach          t  NaN   \n",
       "4  general  woman  22.0    1.76    74.0  24.0  dislocation        NaN  NaN   \n",
       "\n",
       "  ultrasound  mri xray  children  months  \n",
       "0        NaN  NaN  NaN       NaN     NaN  \n",
       "1          t  NaN  NaN       NaN     NaN  \n",
       "2        NaN  NaN  NaN       NaN     NaN  \n",
       "3          t  NaN  NaN       NaN     NaN  \n",
       "4        NaN  NaN    f       NaN     NaN  "
      ]
     },
     "execution_count": 10,
     "metadata": {},
     "output_type": "execute_result"
    }
   ],
   "source": [
    "df = df.drop(columns = [\"Unnamed: 0\"], axis = 1)\n",
    "\n",
    "df.head()"
   ]
  },
  {
   "cell_type": "markdown",
   "metadata": {},
   "source": [
    "# Stage 3/5: Improve your dataset\n",
    "\n",
    "- 3.1. Delete all empty rows\n"
   ]
  },
  {
   "cell_type": "code",
   "execution_count": 11,
   "metadata": {},
   "outputs": [
    {
     "data": {
      "text/html": [
       "<div>\n",
       "<style scoped>\n",
       "    .dataframe tbody tr th:only-of-type {\n",
       "        vertical-align: middle;\n",
       "    }\n",
       "\n",
       "    .dataframe tbody tr th {\n",
       "        vertical-align: top;\n",
       "    }\n",
       "\n",
       "    .dataframe thead th {\n",
       "        text-align: right;\n",
       "    }\n",
       "</style>\n",
       "<table border=\"1\" class=\"dataframe\">\n",
       "  <thead>\n",
       "    <tr style=\"text-align: right;\">\n",
       "      <th></th>\n",
       "      <th>hospital</th>\n",
       "      <th>gender</th>\n",
       "      <th>age</th>\n",
       "      <th>height</th>\n",
       "      <th>weight</th>\n",
       "      <th>bmi</th>\n",
       "      <th>diagnosis</th>\n",
       "      <th>blood_test</th>\n",
       "      <th>ecg</th>\n",
       "      <th>ultrasound</th>\n",
       "      <th>mri</th>\n",
       "      <th>xray</th>\n",
       "      <th>children</th>\n",
       "      <th>months</th>\n",
       "    </tr>\n",
       "  </thead>\n",
       "  <tbody>\n",
       "    <tr>\n",
       "      <th>0</th>\n",
       "      <td>general</td>\n",
       "      <td>man</td>\n",
       "      <td>33.0</td>\n",
       "      <td>1.64</td>\n",
       "      <td>66.0</td>\n",
       "      <td>24.9</td>\n",
       "      <td>cold</td>\n",
       "      <td>t</td>\n",
       "      <td>NaN</td>\n",
       "      <td>NaN</td>\n",
       "      <td>NaN</td>\n",
       "      <td>NaN</td>\n",
       "      <td>NaN</td>\n",
       "      <td>NaN</td>\n",
       "    </tr>\n",
       "    <tr>\n",
       "      <th>1</th>\n",
       "      <td>general</td>\n",
       "      <td>man</td>\n",
       "      <td>48.0</td>\n",
       "      <td>1.93</td>\n",
       "      <td>106.0</td>\n",
       "      <td>28.4</td>\n",
       "      <td>stomach</td>\n",
       "      <td>t</td>\n",
       "      <td>NaN</td>\n",
       "      <td>t</td>\n",
       "      <td>NaN</td>\n",
       "      <td>NaN</td>\n",
       "      <td>NaN</td>\n",
       "      <td>NaN</td>\n",
       "    </tr>\n",
       "    <tr>\n",
       "      <th>2</th>\n",
       "      <td>general</td>\n",
       "      <td>woman</td>\n",
       "      <td>23.0</td>\n",
       "      <td>1.54</td>\n",
       "      <td>63.0</td>\n",
       "      <td>26.8</td>\n",
       "      <td>cold</td>\n",
       "      <td>t</td>\n",
       "      <td>NaN</td>\n",
       "      <td>NaN</td>\n",
       "      <td>NaN</td>\n",
       "      <td>NaN</td>\n",
       "      <td>NaN</td>\n",
       "      <td>NaN</td>\n",
       "    </tr>\n",
       "    <tr>\n",
       "      <th>3</th>\n",
       "      <td>general</td>\n",
       "      <td>man</td>\n",
       "      <td>27.0</td>\n",
       "      <td>1.94</td>\n",
       "      <td>103.0</td>\n",
       "      <td>27.5</td>\n",
       "      <td>stomach</td>\n",
       "      <td>t</td>\n",
       "      <td>NaN</td>\n",
       "      <td>t</td>\n",
       "      <td>NaN</td>\n",
       "      <td>NaN</td>\n",
       "      <td>NaN</td>\n",
       "      <td>NaN</td>\n",
       "    </tr>\n",
       "    <tr>\n",
       "      <th>4</th>\n",
       "      <td>general</td>\n",
       "      <td>woman</td>\n",
       "      <td>22.0</td>\n",
       "      <td>1.76</td>\n",
       "      <td>74.0</td>\n",
       "      <td>24.0</td>\n",
       "      <td>dislocation</td>\n",
       "      <td>NaN</td>\n",
       "      <td>NaN</td>\n",
       "      <td>NaN</td>\n",
       "      <td>NaN</td>\n",
       "      <td>f</td>\n",
       "      <td>NaN</td>\n",
       "      <td>NaN</td>\n",
       "    </tr>\n",
       "  </tbody>\n",
       "</table>\n",
       "</div>"
      ],
      "text/plain": [
       "  hospital gender   age  height  weight   bmi    diagnosis blood_test  ecg  \\\n",
       "0  general    man  33.0    1.64    66.0  24.9         cold          t  NaN   \n",
       "1  general    man  48.0    1.93   106.0  28.4      stomach          t  NaN   \n",
       "2  general  woman  23.0    1.54    63.0  26.8         cold          t  NaN   \n",
       "3  general    man  27.0    1.94   103.0  27.5      stomach          t  NaN   \n",
       "4  general  woman  22.0    1.76    74.0  24.0  dislocation        NaN  NaN   \n",
       "\n",
       "  ultrasound  mri xray  children  months  \n",
       "0        NaN  NaN  NaN       NaN     NaN  \n",
       "1          t  NaN  NaN       NaN     NaN  \n",
       "2        NaN  NaN  NaN       NaN     NaN  \n",
       "3          t  NaN  NaN       NaN     NaN  \n",
       "4        NaN  NaN    f       NaN     NaN  "
      ]
     },
     "execution_count": 11,
     "metadata": {},
     "output_type": "execute_result"
    }
   ],
   "source": [
    "df = df.dropna(how = \"all\")\n",
    "\n",
    "df.head()"
   ]
  },
  {
   "cell_type": "markdown",
   "metadata": {},
   "source": [
    "- 3.2. Correct gender values to: `f` and `m`\n"
   ]
  },
  {
   "cell_type": "code",
   "execution_count": 12,
   "metadata": {},
   "outputs": [
    {
     "data": {
      "text/plain": [
       "array(['man', 'woman', nan, 'female', 'male'], dtype=object)"
      ]
     },
     "execution_count": 12,
     "metadata": {},
     "output_type": "execute_result"
    }
   ],
   "source": [
    "gender_list = df[\"gender\"].unique()\n",
    "\n",
    "gender_list"
   ]
  },
  {
   "cell_type": "code",
   "execution_count": 13,
   "metadata": {},
   "outputs": [
    {
     "data": {
      "text/html": [
       "<div>\n",
       "<style scoped>\n",
       "    .dataframe tbody tr th:only-of-type {\n",
       "        vertical-align: middle;\n",
       "    }\n",
       "\n",
       "    .dataframe tbody tr th {\n",
       "        vertical-align: top;\n",
       "    }\n",
       "\n",
       "    .dataframe thead th {\n",
       "        text-align: right;\n",
       "    }\n",
       "</style>\n",
       "<table border=\"1\" class=\"dataframe\">\n",
       "  <thead>\n",
       "    <tr style=\"text-align: right;\">\n",
       "      <th></th>\n",
       "      <th>hospital</th>\n",
       "      <th>gender</th>\n",
       "      <th>age</th>\n",
       "      <th>height</th>\n",
       "      <th>weight</th>\n",
       "      <th>bmi</th>\n",
       "      <th>diagnosis</th>\n",
       "      <th>blood_test</th>\n",
       "      <th>ecg</th>\n",
       "      <th>ultrasound</th>\n",
       "      <th>mri</th>\n",
       "      <th>xray</th>\n",
       "      <th>children</th>\n",
       "      <th>months</th>\n",
       "    </tr>\n",
       "  </thead>\n",
       "  <tbody>\n",
       "    <tr>\n",
       "      <th>0</th>\n",
       "      <td>general</td>\n",
       "      <td>m</td>\n",
       "      <td>33.0</td>\n",
       "      <td>1.64</td>\n",
       "      <td>66.0</td>\n",
       "      <td>24.9</td>\n",
       "      <td>cold</td>\n",
       "      <td>t</td>\n",
       "      <td>NaN</td>\n",
       "      <td>NaN</td>\n",
       "      <td>NaN</td>\n",
       "      <td>NaN</td>\n",
       "      <td>NaN</td>\n",
       "      <td>NaN</td>\n",
       "    </tr>\n",
       "    <tr>\n",
       "      <th>1</th>\n",
       "      <td>general</td>\n",
       "      <td>m</td>\n",
       "      <td>48.0</td>\n",
       "      <td>1.93</td>\n",
       "      <td>106.0</td>\n",
       "      <td>28.4</td>\n",
       "      <td>stomach</td>\n",
       "      <td>t</td>\n",
       "      <td>NaN</td>\n",
       "      <td>t</td>\n",
       "      <td>NaN</td>\n",
       "      <td>NaN</td>\n",
       "      <td>NaN</td>\n",
       "      <td>NaN</td>\n",
       "    </tr>\n",
       "    <tr>\n",
       "      <th>2</th>\n",
       "      <td>general</td>\n",
       "      <td>f</td>\n",
       "      <td>23.0</td>\n",
       "      <td>1.54</td>\n",
       "      <td>63.0</td>\n",
       "      <td>26.8</td>\n",
       "      <td>cold</td>\n",
       "      <td>t</td>\n",
       "      <td>NaN</td>\n",
       "      <td>NaN</td>\n",
       "      <td>NaN</td>\n",
       "      <td>NaN</td>\n",
       "      <td>NaN</td>\n",
       "      <td>NaN</td>\n",
       "    </tr>\n",
       "    <tr>\n",
       "      <th>3</th>\n",
       "      <td>general</td>\n",
       "      <td>m</td>\n",
       "      <td>27.0</td>\n",
       "      <td>1.94</td>\n",
       "      <td>103.0</td>\n",
       "      <td>27.5</td>\n",
       "      <td>stomach</td>\n",
       "      <td>t</td>\n",
       "      <td>NaN</td>\n",
       "      <td>t</td>\n",
       "      <td>NaN</td>\n",
       "      <td>NaN</td>\n",
       "      <td>NaN</td>\n",
       "      <td>NaN</td>\n",
       "    </tr>\n",
       "    <tr>\n",
       "      <th>4</th>\n",
       "      <td>general</td>\n",
       "      <td>f</td>\n",
       "      <td>22.0</td>\n",
       "      <td>1.76</td>\n",
       "      <td>74.0</td>\n",
       "      <td>24.0</td>\n",
       "      <td>dislocation</td>\n",
       "      <td>NaN</td>\n",
       "      <td>NaN</td>\n",
       "      <td>NaN</td>\n",
       "      <td>NaN</td>\n",
       "      <td>f</td>\n",
       "      <td>NaN</td>\n",
       "      <td>NaN</td>\n",
       "    </tr>\n",
       "  </tbody>\n",
       "</table>\n",
       "</div>"
      ],
      "text/plain": [
       "  hospital gender   age  height  weight   bmi    diagnosis blood_test  ecg  \\\n",
       "0  general      m  33.0    1.64    66.0  24.9         cold          t  NaN   \n",
       "1  general      m  48.0    1.93   106.0  28.4      stomach          t  NaN   \n",
       "2  general      f  23.0    1.54    63.0  26.8         cold          t  NaN   \n",
       "3  general      m  27.0    1.94   103.0  27.5      stomach          t  NaN   \n",
       "4  general      f  22.0    1.76    74.0  24.0  dislocation        NaN  NaN   \n",
       "\n",
       "  ultrasound  mri xray  children  months  \n",
       "0        NaN  NaN  NaN       NaN     NaN  \n",
       "1          t  NaN  NaN       NaN     NaN  \n",
       "2        NaN  NaN  NaN       NaN     NaN  \n",
       "3          t  NaN  NaN       NaN     NaN  \n",
       "4        NaN  NaN    f       NaN     NaN  "
      ]
     },
     "execution_count": 13,
     "metadata": {},
     "output_type": "execute_result"
    }
   ],
   "source": [
    "df[\"gender\"] = df[\"gender\"].replace(to_replace = [\"man\", \"male\"], value = \"m\").replace(to_replace = [\"woman\", \"nan\", \"female\"], value = \"f\")\n",
    "\n",
    "df.head()"
   ]
  },
  {
   "cell_type": "markdown",
   "metadata": {},
   "source": [
    "- 3.3. Replace the NaN values in the gender column with f (they are all from the prenatal hospital so we assume they're all female)\n"
   ]
  },
  {
   "cell_type": "code",
   "execution_count": 14,
   "metadata": {},
   "outputs": [],
   "source": [
    "df[\"gender\"] = df[\"gender\"].fillna(\"f\")"
   ]
  },
  {
   "cell_type": "markdown",
   "metadata": {},
   "source": [
    "- 3.4. Replace the NaN values in the bmi, diagnosis, blood_test, ecg, ultrasound, mri, xray, children, months columns with zeros\n"
   ]
  },
  {
   "cell_type": "code",
   "execution_count": 15,
   "metadata": {},
   "outputs": [],
   "source": [
    "list = [\"bmi\", \"diagnosis\", \"blood_test\", \"ecg\", \"ultrasound\", \"mri\", \"xray\", \"children\", \"months\"]"
   ]
  },
  {
   "cell_type": "code",
   "execution_count": 16,
   "metadata": {},
   "outputs": [
    {
     "data": {
      "text/html": [
       "<div>\n",
       "<style scoped>\n",
       "    .dataframe tbody tr th:only-of-type {\n",
       "        vertical-align: middle;\n",
       "    }\n",
       "\n",
       "    .dataframe tbody tr th {\n",
       "        vertical-align: top;\n",
       "    }\n",
       "\n",
       "    .dataframe thead th {\n",
       "        text-align: right;\n",
       "    }\n",
       "</style>\n",
       "<table border=\"1\" class=\"dataframe\">\n",
       "  <thead>\n",
       "    <tr style=\"text-align: right;\">\n",
       "      <th></th>\n",
       "      <th>hospital</th>\n",
       "      <th>gender</th>\n",
       "      <th>age</th>\n",
       "      <th>height</th>\n",
       "      <th>weight</th>\n",
       "      <th>bmi</th>\n",
       "      <th>diagnosis</th>\n",
       "      <th>blood_test</th>\n",
       "      <th>ecg</th>\n",
       "      <th>ultrasound</th>\n",
       "      <th>mri</th>\n",
       "      <th>xray</th>\n",
       "      <th>children</th>\n",
       "      <th>months</th>\n",
       "    </tr>\n",
       "  </thead>\n",
       "  <tbody>\n",
       "    <tr>\n",
       "      <th>0</th>\n",
       "      <td>general</td>\n",
       "      <td>m</td>\n",
       "      <td>33.0</td>\n",
       "      <td>1.64</td>\n",
       "      <td>66.0</td>\n",
       "      <td>24.9</td>\n",
       "      <td>cold</td>\n",
       "      <td>t</td>\n",
       "      <td>0</td>\n",
       "      <td>0</td>\n",
       "      <td>0</td>\n",
       "      <td>0</td>\n",
       "      <td>0.0</td>\n",
       "      <td>0.0</td>\n",
       "    </tr>\n",
       "    <tr>\n",
       "      <th>1</th>\n",
       "      <td>general</td>\n",
       "      <td>m</td>\n",
       "      <td>48.0</td>\n",
       "      <td>1.93</td>\n",
       "      <td>106.0</td>\n",
       "      <td>28.4</td>\n",
       "      <td>stomach</td>\n",
       "      <td>t</td>\n",
       "      <td>0</td>\n",
       "      <td>t</td>\n",
       "      <td>0</td>\n",
       "      <td>0</td>\n",
       "      <td>0.0</td>\n",
       "      <td>0.0</td>\n",
       "    </tr>\n",
       "    <tr>\n",
       "      <th>2</th>\n",
       "      <td>general</td>\n",
       "      <td>f</td>\n",
       "      <td>23.0</td>\n",
       "      <td>1.54</td>\n",
       "      <td>63.0</td>\n",
       "      <td>26.8</td>\n",
       "      <td>cold</td>\n",
       "      <td>t</td>\n",
       "      <td>0</td>\n",
       "      <td>0</td>\n",
       "      <td>0</td>\n",
       "      <td>0</td>\n",
       "      <td>0.0</td>\n",
       "      <td>0.0</td>\n",
       "    </tr>\n",
       "    <tr>\n",
       "      <th>3</th>\n",
       "      <td>general</td>\n",
       "      <td>m</td>\n",
       "      <td>27.0</td>\n",
       "      <td>1.94</td>\n",
       "      <td>103.0</td>\n",
       "      <td>27.5</td>\n",
       "      <td>stomach</td>\n",
       "      <td>t</td>\n",
       "      <td>0</td>\n",
       "      <td>t</td>\n",
       "      <td>0</td>\n",
       "      <td>0</td>\n",
       "      <td>0.0</td>\n",
       "      <td>0.0</td>\n",
       "    </tr>\n",
       "    <tr>\n",
       "      <th>4</th>\n",
       "      <td>general</td>\n",
       "      <td>f</td>\n",
       "      <td>22.0</td>\n",
       "      <td>1.76</td>\n",
       "      <td>74.0</td>\n",
       "      <td>24.0</td>\n",
       "      <td>dislocation</td>\n",
       "      <td>0</td>\n",
       "      <td>0</td>\n",
       "      <td>0</td>\n",
       "      <td>0</td>\n",
       "      <td>f</td>\n",
       "      <td>0.0</td>\n",
       "      <td>0.0</td>\n",
       "    </tr>\n",
       "  </tbody>\n",
       "</table>\n",
       "</div>"
      ],
      "text/plain": [
       "  hospital gender   age  height  weight   bmi    diagnosis blood_test ecg  \\\n",
       "0  general      m  33.0    1.64    66.0  24.9         cold          t   0   \n",
       "1  general      m  48.0    1.93   106.0  28.4      stomach          t   0   \n",
       "2  general      f  23.0    1.54    63.0  26.8         cold          t   0   \n",
       "3  general      m  27.0    1.94   103.0  27.5      stomach          t   0   \n",
       "4  general      f  22.0    1.76    74.0  24.0  dislocation          0   0   \n",
       "\n",
       "  ultrasound mri xray  children  months  \n",
       "0          0   0    0       0.0     0.0  \n",
       "1          t   0    0       0.0     0.0  \n",
       "2          0   0    0       0.0     0.0  \n",
       "3          t   0    0       0.0     0.0  \n",
       "4          0   0    f       0.0     0.0  "
      ]
     },
     "execution_count": 16,
     "metadata": {},
     "output_type": "execute_result"
    }
   ],
   "source": [
    "df[list] = df[list].fillna(value = 0)\n",
    "\n",
    "df.head()"
   ]
  },
  {
   "cell_type": "markdown",
   "metadata": {},
   "source": [
    "# Stage 4/5: The statistics\n"
   ]
  },
  {
   "cell_type": "markdown",
   "metadata": {},
   "source": [
    "\n",
    "- 4.1. Which hospital has the highest number of patients?\n"
   ]
  },
  {
   "cell_type": "code",
   "execution_count": 17,
   "metadata": {},
   "outputs": [
    {
     "data": {
      "text/plain": [
       "hospital\n",
       "general     461\n",
       "prenatal    325\n",
       "sports      214\n",
       "Name: gender, dtype: int64"
      ]
     },
     "execution_count": 17,
     "metadata": {},
     "output_type": "execute_result"
    }
   ],
   "source": [
    "df.groupby(\"hospital\").count()[\"gender\"]"
   ]
  },
  {
   "cell_type": "code",
   "execution_count": 18,
   "metadata": {},
   "outputs": [
    {
     "data": {
      "text/plain": [
       "'general'"
      ]
     },
     "execution_count": 18,
     "metadata": {},
     "output_type": "execute_result"
    }
   ],
   "source": [
    "highest_p = df.groupby(\"hospital\").count().index[0]\n",
    "\n",
    "highest_p"
   ]
  },
  {
   "cell_type": "code",
   "execution_count": 19,
   "metadata": {},
   "outputs": [
    {
     "name": "stdout",
     "output_type": "stream",
     "text": [
      "The hospital with the highest number of patients is the general hospital.\n"
     ]
    }
   ],
   "source": [
    "print(f\"The hospital with the highest number of patients is the {highest_p} hospital.\")"
   ]
  },
  {
   "cell_type": "markdown",
   "metadata": {},
   "source": [
    "- 4.2. What share of the patients in the general hospital suffers from stomach-related issues? Round the result to the third decimal place.\n"
   ]
  },
  {
   "cell_type": "code",
   "execution_count": 20,
   "metadata": {},
   "outputs": [
    {
     "name": "stderr",
     "output_type": "stream",
     "text": [
      "C:\\Users\\34623\\AppData\\Local\\Temp\\ipykernel_14736\\477308341.py:1: FutureWarning: Series.__getitem__ treating keys as positions is deprecated. In a future version, integer keys will always be treated as labels (consistent with DataFrame behavior). To access a value by position, use `ser.iloc[pos]`\n",
      "  stomach_condition = df[(df[\"diagnosis\"] == \"stomach\") & (df[\"hospital\"] == \"general\")].count()[0]\n"
     ]
    },
    {
     "data": {
      "text/plain": [
       "150"
      ]
     },
     "execution_count": 20,
     "metadata": {},
     "output_type": "execute_result"
    }
   ],
   "source": [
    "stomach_condition = df[(df[\"diagnosis\"] == \"stomach\") & (df[\"hospital\"] == \"general\")].count()[0]\n",
    "\n",
    "stomach_condition"
   ]
  },
  {
   "cell_type": "code",
   "execution_count": 21,
   "metadata": {},
   "outputs": [
    {
     "name": "stderr",
     "output_type": "stream",
     "text": [
      "C:\\Users\\34623\\AppData\\Local\\Temp\\ipykernel_14736\\2667367460.py:1: FutureWarning: Series.__getitem__ treating keys as positions is deprecated. In a future version, integer keys will always be treated as labels (consistent with DataFrame behavior). To access a value by position, use `ser.iloc[pos]`\n",
      "  other_condition = df[(df[\"diagnosis\"] != \"stomach\") & (df[\"hospital\"] == \"general\")].count()[0]\n"
     ]
    },
    {
     "data": {
      "text/plain": [
       "311"
      ]
     },
     "execution_count": 21,
     "metadata": {},
     "output_type": "execute_result"
    }
   ],
   "source": [
    "other_condition = df[(df[\"diagnosis\"] != \"stomach\") & (df[\"hospital\"] == \"general\")].count()[0]\n",
    "\n",
    "other_condition"
   ]
  },
  {
   "cell_type": "code",
   "execution_count": 22,
   "metadata": {},
   "outputs": [
    {
     "data": {
      "text/plain": [
       "0.32537960954446854"
      ]
     },
     "execution_count": 22,
     "metadata": {},
     "output_type": "execute_result"
    }
   ],
   "source": [
    "percent = (stomach_condition / len(df[df[\"hospital\"] == \"general\"])) #* 100).round(3)\n",
    "\n",
    "percent"
   ]
  },
  {
   "cell_type": "code",
   "execution_count": 23,
   "metadata": {},
   "outputs": [
    {
     "name": "stdout",
     "output_type": "stream",
     "text": [
      "The percentage of patients with stomach issues at the general hospital is 0.32537960954446854%\n"
     ]
    }
   ],
   "source": [
    "print(f\"The percentage of patients with stomach issues at the general hospital is {percent}%\")"
   ]
  },
  {
   "cell_type": "code",
   "execution_count": 24,
   "metadata": {},
   "outputs": [
    {
     "name": "stderr",
     "output_type": "stream",
     "text": [
      "C:\\Users\\34623\\AppData\\Local\\Temp\\ipykernel_14736\\2374851380.py:1: FutureWarning: Series.__getitem__ treating keys as positions is deprecated. In a future version, integer keys will always be treated as labels (consistent with DataFrame behavior). To access a value by position, use `ser.iloc[pos]`\n",
      "  percent_alt = df[df[\"hospital\"]== \"general\"][\"diagnosis\"].value_counts(normalize=True)[1].round(5)*100\n"
     ]
    },
    {
     "data": {
      "text/plain": [
       "32.538"
      ]
     },
     "execution_count": 24,
     "metadata": {},
     "output_type": "execute_result"
    }
   ],
   "source": [
    "percent_alt = df[df[\"hospital\"]== \"general\"][\"diagnosis\"].value_counts(normalize=True)[1].round(5)*100\n",
    "\n",
    "percent_alt"
   ]
  },
  {
   "cell_type": "code",
   "execution_count": 25,
   "metadata": {},
   "outputs": [
    {
     "name": "stdout",
     "output_type": "stream",
     "text": [
      "The percentage of patients at the general hospital suffering from a stomach condition is 32.538%\n"
     ]
    }
   ],
   "source": [
    "print(f\"The percentage of patients at the general hospital suffering from a stomach condition is {percent_alt}%\")"
   ]
  },
  {
   "cell_type": "markdown",
   "metadata": {},
   "source": [
    "- 4.3. What share of the patients in the sports hospital suffers from dislocation-related issues? Round the result to the third decimal place.\n"
   ]
  },
  {
   "cell_type": "code",
   "execution_count": 26,
   "metadata": {},
   "outputs": [
    {
     "data": {
      "text/html": [
       "<div>\n",
       "<style scoped>\n",
       "    .dataframe tbody tr th:only-of-type {\n",
       "        vertical-align: middle;\n",
       "    }\n",
       "\n",
       "    .dataframe tbody tr th {\n",
       "        vertical-align: top;\n",
       "    }\n",
       "\n",
       "    .dataframe thead th {\n",
       "        text-align: right;\n",
       "    }\n",
       "</style>\n",
       "<table border=\"1\" class=\"dataframe\">\n",
       "  <thead>\n",
       "    <tr style=\"text-align: right;\">\n",
       "      <th></th>\n",
       "      <th>hospital</th>\n",
       "      <th>gender</th>\n",
       "      <th>age</th>\n",
       "      <th>height</th>\n",
       "      <th>weight</th>\n",
       "      <th>bmi</th>\n",
       "      <th>diagnosis</th>\n",
       "      <th>blood_test</th>\n",
       "      <th>ecg</th>\n",
       "      <th>ultrasound</th>\n",
       "      <th>mri</th>\n",
       "      <th>xray</th>\n",
       "      <th>children</th>\n",
       "      <th>months</th>\n",
       "    </tr>\n",
       "  </thead>\n",
       "  <tbody>\n",
       "    <tr>\n",
       "      <th>0</th>\n",
       "      <td>general</td>\n",
       "      <td>m</td>\n",
       "      <td>33.0</td>\n",
       "      <td>1.64</td>\n",
       "      <td>66.0</td>\n",
       "      <td>24.9</td>\n",
       "      <td>cold</td>\n",
       "      <td>t</td>\n",
       "      <td>0</td>\n",
       "      <td>0</td>\n",
       "      <td>0</td>\n",
       "      <td>0</td>\n",
       "      <td>0.0</td>\n",
       "      <td>0.0</td>\n",
       "    </tr>\n",
       "    <tr>\n",
       "      <th>1</th>\n",
       "      <td>general</td>\n",
       "      <td>m</td>\n",
       "      <td>48.0</td>\n",
       "      <td>1.93</td>\n",
       "      <td>106.0</td>\n",
       "      <td>28.4</td>\n",
       "      <td>stomach</td>\n",
       "      <td>t</td>\n",
       "      <td>0</td>\n",
       "      <td>t</td>\n",
       "      <td>0</td>\n",
       "      <td>0</td>\n",
       "      <td>0.0</td>\n",
       "      <td>0.0</td>\n",
       "    </tr>\n",
       "    <tr>\n",
       "      <th>2</th>\n",
       "      <td>general</td>\n",
       "      <td>f</td>\n",
       "      <td>23.0</td>\n",
       "      <td>1.54</td>\n",
       "      <td>63.0</td>\n",
       "      <td>26.8</td>\n",
       "      <td>cold</td>\n",
       "      <td>t</td>\n",
       "      <td>0</td>\n",
       "      <td>0</td>\n",
       "      <td>0</td>\n",
       "      <td>0</td>\n",
       "      <td>0.0</td>\n",
       "      <td>0.0</td>\n",
       "    </tr>\n",
       "    <tr>\n",
       "      <th>3</th>\n",
       "      <td>general</td>\n",
       "      <td>m</td>\n",
       "      <td>27.0</td>\n",
       "      <td>1.94</td>\n",
       "      <td>103.0</td>\n",
       "      <td>27.5</td>\n",
       "      <td>stomach</td>\n",
       "      <td>t</td>\n",
       "      <td>0</td>\n",
       "      <td>t</td>\n",
       "      <td>0</td>\n",
       "      <td>0</td>\n",
       "      <td>0.0</td>\n",
       "      <td>0.0</td>\n",
       "    </tr>\n",
       "    <tr>\n",
       "      <th>4</th>\n",
       "      <td>general</td>\n",
       "      <td>f</td>\n",
       "      <td>22.0</td>\n",
       "      <td>1.76</td>\n",
       "      <td>74.0</td>\n",
       "      <td>24.0</td>\n",
       "      <td>dislocation</td>\n",
       "      <td>0</td>\n",
       "      <td>0</td>\n",
       "      <td>0</td>\n",
       "      <td>0</td>\n",
       "      <td>f</td>\n",
       "      <td>0.0</td>\n",
       "      <td>0.0</td>\n",
       "    </tr>\n",
       "  </tbody>\n",
       "</table>\n",
       "</div>"
      ],
      "text/plain": [
       "  hospital gender   age  height  weight   bmi    diagnosis blood_test ecg  \\\n",
       "0  general      m  33.0    1.64    66.0  24.9         cold          t   0   \n",
       "1  general      m  48.0    1.93   106.0  28.4      stomach          t   0   \n",
       "2  general      f  23.0    1.54    63.0  26.8         cold          t   0   \n",
       "3  general      m  27.0    1.94   103.0  27.5      stomach          t   0   \n",
       "4  general      f  22.0    1.76    74.0  24.0  dislocation          0   0   \n",
       "\n",
       "  ultrasound mri xray  children  months  \n",
       "0          0   0    0       0.0     0.0  \n",
       "1          t   0    0       0.0     0.0  \n",
       "2          0   0    0       0.0     0.0  \n",
       "3          t   0    0       0.0     0.0  \n",
       "4          0   0    f       0.0     0.0  "
      ]
     },
     "execution_count": 26,
     "metadata": {},
     "output_type": "execute_result"
    }
   ],
   "source": [
    "df.head()"
   ]
  },
  {
   "cell_type": "code",
   "execution_count": 27,
   "metadata": {},
   "outputs": [
    {
     "name": "stderr",
     "output_type": "stream",
     "text": [
      "C:\\Users\\34623\\AppData\\Local\\Temp\\ipykernel_14736\\3349698782.py:1: FutureWarning: Series.__getitem__ treating keys as positions is deprecated. In a future version, integer keys will always be treated as labels (consistent with DataFrame behavior). To access a value by position, use `ser.iloc[pos]`\n",
      "  count_sport_dis = df[(df[\"hospital\"] == \"sports\") & (df[\"diagnosis\"] == \"dislocation\")].count()[0]\n"
     ]
    },
    {
     "data": {
      "text/plain": [
       "61"
      ]
     },
     "execution_count": 27,
     "metadata": {},
     "output_type": "execute_result"
    }
   ],
   "source": [
    "count_sport_dis = df[(df[\"hospital\"] == \"sports\") & (df[\"diagnosis\"] == \"dislocation\")].count()[0]\n",
    "\n",
    "count_sport_dis"
   ]
  },
  {
   "cell_type": "code",
   "execution_count": 28,
   "metadata": {},
   "outputs": [
    {
     "name": "stderr",
     "output_type": "stream",
     "text": [
      "C:\\Users\\34623\\AppData\\Local\\Temp\\ipykernel_14736\\3958040086.py:1: FutureWarning: Series.__getitem__ treating keys as positions is deprecated. In a future version, integer keys will always be treated as labels (consistent with DataFrame behavior). To access a value by position, use `ser.iloc[pos]`\n",
      "  count_sport_other = df[(df[\"hospital\"] == \"sports\") & (df[\"diagnosis\"] != \"dislocation\")].count()[0]\n"
     ]
    },
    {
     "data": {
      "text/plain": [
       "153"
      ]
     },
     "execution_count": 28,
     "metadata": {},
     "output_type": "execute_result"
    }
   ],
   "source": [
    "count_sport_other = df[(df[\"hospital\"] == \"sports\") & (df[\"diagnosis\"] != \"dislocation\")].count()[0]\n",
    "\n",
    "count_sport_other"
   ]
  },
  {
   "cell_type": "code",
   "execution_count": 29,
   "metadata": {},
   "outputs": [],
   "source": [
    "sport_total = count_sport_dis + count_sport_other"
   ]
  },
  {
   "cell_type": "code",
   "execution_count": 30,
   "metadata": {},
   "outputs": [
    {
     "data": {
      "text/plain": [
       "28.505"
      ]
     },
     "execution_count": 30,
     "metadata": {},
     "output_type": "execute_result"
    }
   ],
   "source": [
    "percent_dis = (count_sport_dis/sport_total *100).round(3)\n",
    "\n",
    "percent_dis"
   ]
  },
  {
   "cell_type": "markdown",
   "metadata": {},
   "source": [
    "- 4.4. What is the difference in the median ages of the patients in the general and sports hospitals?\n"
   ]
  },
  {
   "cell_type": "code",
   "execution_count": 31,
   "metadata": {},
   "outputs": [],
   "source": [
    "def calc_age(sport: int, general: int) -> int:\n",
    "    if sport > general:\n",
    "        return sport-general\n",
    "    else:\n",
    "        return general-sport"
   ]
  },
  {
   "cell_type": "code",
   "execution_count": 32,
   "metadata": {},
   "outputs": [
    {
     "name": "stdout",
     "output_type": "stream",
     "text": [
      "The difference between the median age of the general hospital patients (38.0) and the sports hospital patients (19.0) is 19.0\n"
     ]
    }
   ],
   "source": [
    "gen_age = df[df[\"hospital\"] == \"general\"][\"age\"].median()\n",
    "\n",
    "sport_age = df[df[\"hospital\"] == \"sports\"][\"age\"].median()\n",
    "\n",
    "age_diff = calc_age(sport_age, gen_age)\n",
    "\n",
    "print(f\"The difference between the median age of the general hospital patients ({gen_age}) and the sports hospital patients ({sport_age}) is {age_diff}\")"
   ]
  },
  {
   "cell_type": "markdown",
   "metadata": {},
   "source": [
    "- 4.5. After data processing at the previous stages, the blood_test column has three values: t = a blood test was taken, f = a blood test wasn't taken, and 0 = there is no information. In which hospital the blood test was taken the most often (there is the biggest number of t in the blood_test column among all the hospitals)? How many blood tests were taken?\n"
   ]
  },
  {
   "cell_type": "code",
   "execution_count": 33,
   "metadata": {},
   "outputs": [
    {
     "name": "stdout",
     "output_type": "stream",
     "text": [
      "Blood tests were taken the most in the Prenatal hospital, and the number of tests taken was 325.\n"
     ]
    },
    {
     "name": "stderr",
     "output_type": "stream",
     "text": [
      "C:\\Users\\34623\\AppData\\Local\\Temp\\ipykernel_14736\\4110645931.py:3: FutureWarning: Series.__getitem__ treating keys as positions is deprecated. In a future version, integer keys will always be treated as labels (consistent with DataFrame behavior). To access a value by position, use `ser.iloc[pos]`\n",
      "  most_t = blood_df[\"gender\"][0]\n"
     ]
    }
   ],
   "source": [
    "blood_df = df.groupby([\"hospital\", \"blood_test\"]).count().sort_values(\"gender\", ascending=False)\n",
    "\n",
    "most_t = blood_df[\"gender\"][0]\n",
    "\n",
    "most_hosp = blood_df.index[0][0]\n",
    "\n",
    "most_hosp\n",
    "\n",
    "print(f\"Blood tests were taken the most in the {most_hosp.capitalize()} hospital, and the number of tests taken was {most_t}.\")"
   ]
  },
  {
   "cell_type": "markdown",
   "metadata": {},
   "source": [
    "# Stage 5/5: Visualize it\n",
    "\n",
    "- Hisogram of the age\n"
   ]
  },
  {
   "cell_type": "code",
   "execution_count": 34,
   "metadata": {},
   "outputs": [
    {
     "data": {
      "text/plain": [
       "<Axes: ylabel='Frequency'>"
      ]
     },
     "execution_count": 34,
     "metadata": {},
     "output_type": "execute_result"
    },
    {
     "data": {
      "image/png": "[encoded data removed]",
      "text/plain": [
       "<Figure size 640x480 with 1 Axes>"
      ]
     },
     "metadata": {},
     "output_type": "display_data"
    }
   ],
   "source": [
    "df.plot.hist(column=[\"age\"])"
   ]
  },
  {
   "cell_type": "markdown",
   "metadata": {},
   "source": [
    "- Pie chart of diagnosis. which diagnosis is the more frequent?\n"
   ]
  },
  {
   "cell_type": "code",
   "execution_count": 35,
   "metadata": {},
   "outputs": [
    {
     "data": {
      "text/plain": [
       "<Axes: ylabel='count'>"
      ]
     },
     "execution_count": 35,
     "metadata": {},
     "output_type": "execute_result"
    },
    {
     "data": {
      "image/png": "[encoded data removed]",
      "text/plain": [
       "<Figure size 640x480 with 1 Axes>"
      ]
     },
     "metadata": {},
     "output_type": "display_data"
    }
   ],
   "source": [
    "df[\"diagnosis\"].value_counts(dropna=False).plot(kind=\"pie\")"
   ]
  },
  {
   "cell_type": "code",
   "execution_count": 36,
   "metadata": {},
   "outputs": [
    {
     "name": "stdout",
     "output_type": "stream",
     "text": [
      "Pregnancy is the most frequent diagnosis.\n"
     ]
    }
   ],
   "source": [
    "print(\"Pregnancy is the most frequent diagnosis.\")"
   ]
  },
  {
   "cell_type": "markdown",
   "metadata": {},
   "source": [
    "- violin plot of height by hospital type.\n"
   ]
  },
  {
   "cell_type": "code",
   "execution_count": 37,
   "metadata": {},
   "outputs": [
    {
     "data": {
      "text/plain": [
       "<Axes: xlabel='hospital', ylabel='height'>"
      ]
     },
     "execution_count": 37,
     "metadata": {},
     "output_type": "execute_result"
    },
    {
     "data": {
      "image/png": "[encoded data removed]",
      "text/plain": [
       "<Figure size 640x480 with 1 Axes>"
      ]
     },
     "metadata": {},
     "output_type": "display_data"
    }
   ],
   "source": [
    "sns.violinplot(data=df, x =\"hospital\", y =\"height\")"
   ]
  },
  {
   "cell_type": "markdown",
   "metadata": {},
   "source": []
  }
 ],
 "metadata": {
  "kernelspec": {
   "display_name": "Python 3",
   "language": "python",
   "name": "python3"
  },
  "language_info": {
   "codemirror_mode": {
    "name": "ipython",
    "version": 3
   },
   "file_extension": ".py",
   "mimetype": "text/x-python",
   "name": "python",
   "nbconvert_exporter": "python",
   "pygments_lexer": "ipython3",
   "version": "3.12.3"
  }
 },
 "nbformat": 4,
 "nbformat_minor": 2
}
